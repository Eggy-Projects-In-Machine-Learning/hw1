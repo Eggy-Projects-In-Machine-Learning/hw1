{
 "cells": [
  {
   "cell_type": "markdown",
   "metadata": {},
   "source": [
    "The goal of this project is to generate a short description based on the content of a news article. Trained on the following CNBC dataset: https://data.world/crawlfeeds/cnbc-news-dataset"
   ]
  },
  {
   "cell_type": "code",
   "execution_count": 13,
   "metadata": {},
   "outputs": [],
   "source": [
    "import numpy as np\n",
    "import matplotlib.pyplot as plt\n",
    "import csv\n",
    "import os\n",
    "import torch\n",
    "from torch.utils.data import Dataset, DataLoader\n",
    "from sklearn.model_selection import train_test_split\n",
    "import string\n",
    "import re\n",
    "import json\n",
    "import csv\n",
    "\n",
    "from transformers import BartForSequenceClassification, Trainer, TrainingArguments, EvalPrediction, AutoTokenizer, AutoModelForSeq2SeqLM, Seq2SeqTrainingArguments, Seq2SeqTrainer\n",
    "import numpy as np\n",
    "from datasets import load_dataset, load_from_disk\n",
    "\n",
    "device = torch.device('cuda' if torch.cuda.is_available() else 'cpu')\n",
    "np.random.seed(0)"
   ]
  },
  {
   "cell_type": "code",
   "execution_count": 14,
   "metadata": {},
   "outputs": [],
   "source": [
    "\"\"\" IMPORTING DATA \"\"\"\n",
    "\n",
    "def import_data(file_name):\n",
    "    # temporarily store data in python lists\n",
    "    data = []\n",
    "\n",
    "    with open(file_name, 'r') as csvfile:\n",
    "        csvreader = csv.reader(csvfile)\n",
    "\n",
    "        # skip first row because it has labels\n",
    "        next(csvreader)\n",
    "        data_indices = [5,9]\n",
    "\n",
    "        for row in csvreader:\n",
    "            data.append([row[i] for i in data_indices])\n",
    "\n",
    "    return data\n"
   ]
  },
  {
   "cell_type": "code",
   "execution_count": 15,
   "metadata": {},
   "outputs": [],
   "source": [
    "def clean_text(text):\n",
    "    pattern = f'[^a-zA-Z0-9\\s{re.escape(string.punctuation)}]'\n",
    "    cleaned_text = re.sub(pattern, '', text)\n",
    "    return cleaned_text"
   ]
  },
  {
   "cell_type": "code",
   "execution_count": 20,
   "metadata": {},
   "outputs": [
    {
     "name": "stdout",
     "output_type": "stream",
     "text": [
      "raw data: \n",
      "[[\"This is the daily notebook of Mike Santoli, CNBC's senior markets commentator, with ideas about trends, stocks and market statistics.\"\n",
      "  \"This is the daily notebook of Mike Santoli, CNBC's senior markets commentator, with ideas about trends, stocks and market statistics.A muted, inconclusive bounce that has left the indexes fully within yesterday's low-to-high range all morning so far.\"]\n",
      " ['This commentary originally ran on Facebook. Boris Johnson – The former London mayor and grudging \"Leave\" supporter-turned enthusiastic \"Leave\" leader chose the winning side. He\\'s now a front-runner to lead the Tory party. \\u202a#\\u200eHellFreezesOver\\u202c Theresa May – Boris Johnson\\'s populist approach to the Brexit campaign ticked off quite a few Tory elders, so the real money should be on UK Home Secretary Theresa May to succeed outgoing Prime Minister David Cameron. May is a political heavyweight and is generally respected among the Tories, something Boris Johnson is … um, not.  Nigel Farage – the once-embattled UK Independence Party leader gets his moment in the sun. Also gets to keep having a political career. And the fact that he quoted \"Independence Day\" in his victory speech made a crazy night that much crazier.  Marine Le Pen/Geert Wilders – Charismatic figures with a long history agitating for EU exits, France\\'s Marine Le Pen and the Netherlands\\' Geert Wilders wasted no time calling for their own referendums. Brexit legitimizes their years of saber-rattling, and moves them from the political fringes into the mainstream, where they can do serious damage to the European project.  Vladimir Putin – Russia\\'s strongman needed this. Low oil prices have leveled the Russian economy, and the International Olympic Committee has banned Russian track athletes from competing at \\u202a#\\u200eRio2016\\u202c. But now he gets to say \"at least we\\'re not Europe.\"  Nicola Sturgeon – The head of the Scottish National Party delivered on her end from Scotland, where 62 percent of Scots voted to \"Remain,\" though turnout wasn\\'t as high as hoped. She now has political leverage by threatening to hold another Scottish referendum. And if Scotland leaves, the British drought at Wimbledon gets retroactively reinstated.  German/US relations – Going to get stronger. By default.  David Cameron – The man called the referendum to keep Euroskeptic Tories from defecting to the UK Independence Party camp in last year\\'s parliamentary election. That turns out to have bought him an extra year in 10 Downing Street. Hope it was worth it, David. \\u202a#\\u200eKarmaIsABitch\\u202c   British pollsters – whiffed on the Scottish referendum. Whiffed on last year\\'s parliamentary elections. Whiffed on the Brexit referendum. We were better off flipping a coin.   Alexis Tsipras – when the Greek Prime Minister held a referendum on whether the Greek people should sign a deal for more austerity, he just ignored the results. The fact that Cameron actually fell on his referendum sword makes Tsipras look silly. Oh, and Grexit is now a real possibility now that the precedent has been sent. Labour Party Leader Jeremy Corbyn – Pundits have pointed to Labour\\'s particularly poor showing to get out the vote as a key reason why the \"Remain\" side failed to win. And Jeremy Corbyn just failed in his first real test as Labour leader. Labour has some soul-searching to do, though it feels like we say that after every election.  German Chancellor Angela Merkel – Brexit is now yet another problem for Europe (read: Merkel) to deal with. As if she didn\\'t have enough to worry over.   The British pound sterling – As the pound fell to levels not seen since 1985, maybe the first time ever that the British wish they had adopted the euro.   London\\'s financial sector – Despite the UK\\'s long-fraught relationship with the EU, it was clearly a net benefit for London\\'s financial sector, which could lay claim as the financial center of Europe. Much harder to do that when you\\'ve announced to the world you no longer want to be part of \"Europe.\" Look for Frankfurt to pick up the slack.   Donald J. Trump – Would have made him a winner, except he arrived in Scotland and announced that the Scottish \"took their country back.\" So many things factually incorrect in that one statement I don\\'t even know where to begin. Still, Brexit shows that divisive politics has an audience, which could bode well for The Donald.  Commentary by Ian Bremmer, the president and founder of Eurasia Group. He is also a professor at New York University and the author of \"Superpower: Three Choices for America\\'s Role in the World.\" Follow him on Twitter@ianbremmer.  For more insight from CNBC contributors, follow \\n\\n@CNBCopinion\\n\\n on Twitter.'\n",
      "  '']\n",
      " ['In spring, ambitious reforms began in Italy. Under Matteo Renzi, the ailing economy will either begin a real recovery, or slide further. The outcome is vital to Italy, Europe and the global economy.   Soon the name of Matteo Renzi, the new prime minister of Italy, will be known better internationally, after his meetings with German Chancellor Angela Merkel and President Obama.    Along with French President François Hollande, the two know only too well what\\'s at stake in Italy\\'s recovery. If it succeeds, the recovery of the euro zone will slowly continue. If not, the implications will be global. The reform drive of il Rottamatore   One year after being sworn in as Mayor of Florence in 2009, Matteo Renzi declared that a complete change was necessary in his Democratic Party and Italian politics. So he was nicknamed il Rottamatore (\"The Scrapper\"). Last February, the 39-year-old Renzi became the youngest person in history to be Italy\\'s Prime Minister — even younger than Mussolini.   (Read more: France to ply China with wine)   But can the Great Scrapper reverse Italy\\'s economic decline?   First, the good news: In the end of 2013, only two months before Renzi arrived in Rome, the longest recession in Italy\\'s postwar history ended.    The bad news is that, after nine consecutive quarters of negative growth, the economy is almost 10 percent smaller than before the crisis. Meanwhile, business continues to complain about the tax burden, and the unemployment rate has doubled to over 12 percent since 2007. Despite pledges of austerity in Brussels and Rome, Italy\\'s fiscal deficit is 3 percent of the GDP and its sovereign debt has climbed to more than 132 percent of the gross domestic product (GDP). Among the EU members, only Greece has more.    The only bright spot is the current account surplus, which is almost 1 percent of the GDP. The positive turn stems from a higher contribution from net exports, coupled with a decline in imports. Nonetheless, it will be hard for Italian exporters to sustain their performance in the near future.    The economy suffers from a de facto process of de-industrialization. Industrial production has not increased ever since August 2011 and is now down 25 percent from its peak. Credit contraction weighs heavily on business confidence and consumer sentiment.   Ambitious programs — on a monthly basis   Today, Renzi\\'s Democratic Party, Partito Democratico (PD), has its strongest constituencies in Northern-Central Italy and the big cities. PD runs 12 Italian regions out of a total of 20. It is social-democratic, progressive by outlook, reformist by inclination.    Renzi himself is perceived as a liberal modernizer. When he became prime minister, it was a sign of much-needed generational change in the aging Italy, in which potential growth amounts to barely 0.8  to 1 percent in the coming years.    (Read more: Russia\\'s next step: Capitol controls?)   Italy needs huge structural and institutional reforms. Renzi hopes to reverse the country\\'s longstanding decline by launching one large project every month, starting with a new electoral law to consolidate political decision-making, reforms in the public administration, and the tax system.    Even before Italy\\'s European Council presidency will begin on July 1, 2014, Renzi hopes to achieve on a monthly basis what Rome\\'s political class has failed to achieve in decades. After Berlusconi\\'s rule, he sees Italy\\'s political landscape as devastated. Even before his premiership, he suggested that Italy\\'s parliamentarians should vote for their own removal. To become prime minister, Renzi politically maneuvered his predecessor Enrico Letta to resign.    Nonetheless, Renzi\\'s program will initiate the long-needed transformation of Italy. If this program will fall apart, the failure could push the economy deeper into the abyss.   Slow recovery — or devastating depression   In the past, the euro zone avoided a major crisis as long as friction points were restricted to small economies (e.g., Greece, Portugal, Ireland), which each accounted for less than 3 percent of the euro zone GDP.    Everything changed in fall 2011 when the contagion effect reached Spain and Italy, which together account for almost 30 percent of the regional GDP. If, under these circumstances, Greece would have defaulted, it could have caused a contagion effect, particularly in Italy. That is why Greece has now received two bailouts (73 billion euros and 164 billion euros), is in talks about a third one (up to 20 billion euros) and more generous repayment terms.    As long as Greece remains solvent, Italy and Spain will have time to restore sustained growth.   (Read more: ECB\\'s Weidmann says QE not out of the question)  The Italian economy remains vulnerable, however. Standard & Poor\\'s still has a negative outlook on the country\\'s \"BBB\" rating. Even by 2016, Italian economic output is likely to remain nearly 7 percent below 2007 levels. It is suffering from a \"lost decade.\"   The stakes are massive. Italy continues to account for 5 percent of gross commercial long-term debt globally, although its population is less than 1 percent of the world total.   While Brussels has demanded tough austerity programs, an exclusive focus on the latter would only make things worse in Italy. Instead, Renzi\\'s government is likely to reduce its huge debt only slowly, but focus on a lower deficit.    A failure to achieve progress would polarize Italy, destabilize Southern Europe and reduce global growth prospects.   How Italy goes, so will the world go.  — By Dan Steinbock  Dan Steinbock is research director of International Business at India China and America Institute (USA), visiting fellow at Shanghai Institutes for International Studies (China) and in the EU-Center (Singapore). See also www.differencegroup.net.'\n",
      "  '']\n",
      " ...\n",
      " [''\n",
      "  \"HOUSTON, Oct. 5, 2012 /PRNewswire/ --\\xa0Noble Energy, Inc. (NYSE: NBL) announced today that it will host a conference call to discuss its new venture exploration program at 9:00 a.m., Central Time, Thursday, October 11, 2012.\\xa0The intent of the call is to provide insight into several frontier plays where the company has activities in progress -\\xa0the deep oil potential of the Eastern Mediterranean, the Falkland Islands, and Northeast Nevada. The webcast will be accessible on the 'Investors' page of the Company's website, www.nobleenergyinc.com. Conference call numbers for participation are 888-401-4691 and 719-325-4766. The passcode number is 5184314. A replay will be available at the same web location until January 11, 2013.Noble Energy is a leading independent energy company engaged in worldwide oil and gas exploration and production. The Company has core operations onshore in the U.S., primarily in the DJ Basin and Marcellus Shale, in the deepwater Gulf of Mexico, offshore Eastern Mediterranean, and offshore West Africa. Noble Energy is listed on the New York Stock Exchange and is traded under the ticker symbol NBL. Further information is available at www.nobleenergyinc.com.SOURCE  Noble Energy\"]\n",
      " ['With millions working and learning from home, some exchange-traded fund issuers are trying to capitalize on the shift to virtual living.Direxion kicked it off in April by announcing it would file for a work-from-home ETF, ticker WFH, tracking industries at the heart of remote connectivity such as cybersecurity, communications and cloud technologies.Whether others will follow Direxion\\'s lead remains to be seen, but there are already numerous options on the ETF market that investors can use to play the stay-at-home boom, market analysts say.\"It\\'s amazing how we\\'ve been talking about FANG stocks for so long, but they worked right into the whole stay-at-home world – online shopping, home offices, video streaming, ... modern communication,\" Tom Lydon, the CEO of ETF Trends and ETF Database, told CNBC\\'s \"ETF Edge\" on Monday.All four FANG companies — Facebook, Amazon, Netflix and Alphabet\\xa0— reported their first-quarter earnings results within the last two weeks. Shareholders responded well to all but Amazon, which said it would spend the entirety of its second-quarter profits on bolstering its coronavirus response. Netflix\\'s spike in new subscribers was a particular highlight.One of the most popular ways to trade these names using ETFs is via the\\xa0Invesco QQQ Trust\\xa0(QQQ), which tracks the tech-heavy Nasdaq 100 Index, Lydon said.\"The FANG stocks make up 35% of QQQ. If you add in Microsoft, it\\'s 47%,\" he said. \"So, it\\'s a great way to play it as we continue to be quarantined in this stay-at-home world because it doesn\\'t seem that their businesses are going to get weak any time soon. They just continue to pull away from the pack.\"ETFs that have the biggest position in the FAANG stocks\\xa0— which is FANG plus Apple\\xa0— include the\\xa0Communication Services Select Sector SPDR Fund\\xa0(XLC) at more than 47%, the Vanguard Communication Services ETF (VOX) at over 44% and the Fidelity MSCI Communication Services Index ETF (FCOM), also at 44%.Other existing products investors could consider include some of Global X\\'s more focused products, Todd Rosenbluth, senior director of ETF and mutual fund research at CFRA Research, said in the same \"ETF Edge\" interview.He highlighted the\\xa0Global X Cloud Computing ETF (CLOU) and the Global X Robotics & Artificial Intelligence ETF (BOTZ).\"Cloud computing [and] robotics ... [are] themes that I think have been driven home as people need more bandwidth to be able to work from home and as companies realize that they need more of an automation and use robotics when they can to improve the supply chain,\" Rosenbluth said. \"Some of these themes are really going to resonate with investors even more in 2020 than they have in the recent past,\" he said. \"And there\\'s a whole host of these products from First Trust, from ROBO, from other firms that are really in this space for investors that want to dig deeper into how you can play this stay-at-home theme.\"Jason Bloom, director of global macro ETF strategy at Invesco, suggested Invesco probably won\\'t be getting as granular as some others in the ETF industry anytime soon.\"We do try to be responsive, clearly, to changes in the structure of the market or fundamentals that would suggest that you have an investment theme that makes sense,\" he said in the same \"ETF Edge\" interview.\"We\\'re probably a little more conservative in that durability of the theme for us is ... a very high priority,\" Bloom said. \"So, if there\\'s a risk that the theme may only have a year or two or so before it runs its course, it\\'s probably not going to make it through our process, but if we think it has five, 10 years or more of durability then it certainly makes sense to us.\"Disclosure: Invesco is the sponsor for CNBC\\'s \"ETF Edge.\"Disclaimer'\n",
      "  'With millions working and learning from home, some exchange-traded fund issuers are trying to capitalize on the shift to virtual living.Direxion kicked it off in April by announcing it would file for a work-from-home ETF, ticker WFH, tracking industries at the heart of remote connectivity such as cybersecurity, communications and cloud technologies.Whether others will follow Direxion\\'s lead remains to be seen, but there are already numerous options on the ETF market that investors can use to play the stay-at-home boom, market analysts say.\"It\\'s amazing how we\\'ve been talking about FANG stocks for so long, but they worked right into the whole stay-at-home world – online shopping, home offices, video streaming, ... modern communication,\" Tom Lydon, the CEO of ETF Trends and ETF Database, told CNBC\\'s \"ETF Edge\" on Monday.All four FANG companies — Facebook, Amazon, Netflix and Alphabet\\xa0— reported their first-quarter earnings results within the last two weeks. Shareholders responded well to all but Amazon, which said it would spend the entirety of its second-quarter profits on bolstering its coronavirus response. Netflix\\'s spike in new subscribers was a particular highlight.One of the most popular ways to trade these names using ETFs is via the\\xa0Invesco QQQ Trust\\xa0(QQQ), which tracks the tech-heavy Nasdaq 100 Index, Lydon said.\"The FANG stocks make up 35% of QQQ. If you add in Microsoft, it\\'s 47%,\" he said. \"So, it\\'s a great way to play it as we continue to be quarantined in this stay-at-home world because it doesn\\'t seem that their businesses are going to get weak any time soon. They just continue to pull away from the pack.\"ETFs that have the biggest position in the FAANG stocks\\xa0— which is FANG plus Apple\\xa0— include the\\xa0Communication Services Select Sector SPDR Fund\\xa0(XLC) at more than 47%, the Vanguard Communication Services ETF (VOX) at over 44% and the Fidelity MSCI Communication Services Index ETF (FCOM), also at 44%.Other existing products investors could consider include some of Global X\\'s more focused products, Todd Rosenbluth, senior director of ETF and mutual fund research at CFRA Research, said in the same \"ETF Edge\" interview.He highlighted the\\xa0Global X Cloud Computing ETF (CLOU) and the Global X Robotics & Artificial Intelligence ETF (BOTZ).\"Cloud computing [and] robotics ... [are] themes that I think have been driven home as people need more bandwidth to be able to work from home and as companies realize that they need more of an automation and use robotics when they can to improve the supply chain,\" Rosenbluth said. \"Some of these themes are really going to resonate with investors even more in 2020 than they have in the recent past,\" he said. \"And there\\'s a whole host of these products from First Trust, from ROBO, from other firms that are really in this space for investors that want to dig deeper into how you can play this stay-at-home theme.\"Jason Bloom, director of global macro ETF strategy at Invesco, suggested Invesco probably won\\'t be getting as granular as some others in the ETF industry anytime soon.\"We do try to be responsive, clearly, to changes in the structure of the market or fundamentals that would suggest that you have an investment theme that makes sense,\" he said in the same \"ETF Edge\" interview.\"We\\'re probably a little more conservative in that durability of the theme for us is ... a very high priority,\" Bloom said. \"So, if there\\'s a risk that the theme may only have a year or two or so before it runs its course, it\\'s probably not going to make it through our process, but if we think it has five, 10 years or more of durability then it certainly makes sense to us.\"Disclosure: Invesco is the sponsor for CNBC\\'s \"ETF Edge.\"Disclaimer']\n",
      " ['Do lower crude prices mean lower prices at the pump?Not necessarily, oil prices  fell more than 5 percent on Thursday however the average price for a gallon of gasoline in the United States has risen for the first time since early July. The national average for self-serve, regular unleaded gasoline rose to $1.7793 on January 9, up some 11.71 cents.'\n",
      "  \"Do lower crude prices mean lower prices at the pump?Not necessarily, oil prices  fell more than 5 percent on Thursday however the average price for a gallon of gasoline in the United States has risen for the first time since early July. The national average for self-serve, regular unleaded gasoline rose to $1.7793 on January 9, up some 11.71 cents.And Fast Money’s Joe Terranova thinks prices at the pump are going higher from here. “The crack spread used to be minus 2 dollars, now it’s 7 bucks,” he says.How should you trade it?“The trade is to own the refiners,” counsels Terranova. “Own Valero and Sunoco. They have good balance sheets and are not that reliant on credit.”And it's worth noting, that although gasoline prices are higher, they are still less than half of what consumers paid in July when the average price reached an all-time high of $4.11 a gallon.______________________________________________________Got something to to say? Send us an e-mail at fastmoney-web@cnbc.com and your comment might be posted on the Rapid Recap. If you'd prefer to make a comment but not have it published on our website send those e-mails to .CNBC.com with wires\"]]\n"
     ]
    }
   ],
   "source": [
    "data_path = '../../Data/cnbc_news_datase.csv'\n",
    "processed_data_directory = '../../Data/cnbc_processed/'\n",
    "data = import_data(data_path)\n",
    "data = np.array(data)\n",
    "# column 0 is description, column 1 is content\n",
    "\n",
    "print(f'raw data: \\n{data}')\n",
    "\n",
    "'''\n",
    "DATA CLEANING: \n",
    "\n",
    "keep only alphanumeric and punctuation\n",
    "remove entries where data is missing\n",
    "'''\n",
    "\n",
    "vectorized_clean = np.vectorize(clean_text)\n",
    "data = vectorized_clean(data)\n",
    "\n",
    "rows_with_null = (data == \"\").any(axis=1)\n",
    "data = data[~rows_with_null]\n",
    "labels = np.array(['summary', 'text'])\n",
    "\n",
    "data = np.vstack((labels, data))\n",
    "num_test = int(len(data) * 0.1)\n",
    "random_indices = np.random.choice(data.shape[0], num_test, replace=False)\n",
    "data_test = data[random_indices]\n",
    "data_train = np.delete(data, random_indices, axis=0)\n",
    "\n",
    "train_file = processed_data_directory + 'train.csv'\n",
    "test_file = processed_data_directory + 'test.csv'\n",
    "\n",
    "with open(train_file, 'w', newline='') as csv_file:\n",
    "    writer = csv.writer(csv_file)\n",
    "    writer.writerows(data_train)\n",
    "\n",
    "with open(test_file, 'w', newline='') as csv_file:\n",
    "    writer = csv.writer(csv_file)\n",
    "    writer.writerows(data_test)\n"
   ]
  },
  {
   "cell_type": "markdown",
   "metadata": {},
   "source": [
    "The dataset is cleaned and two CSV files are created, splitting the training and testing data."
   ]
  },
  {
   "cell_type": "code",
   "execution_count": 17,
   "metadata": {},
   "outputs": [
    {
     "name": "stderr",
     "output_type": "stream",
     "text": [
      "Using cache found in C:\\Users\\eggyr/.cache\\torch\\hub\\pytorch_fairseq_main\n"
     ]
    },
    {
     "ename": "KeyboardInterrupt",
     "evalue": "",
     "output_type": "error",
     "traceback": [
      "\u001b[1;31m---------------------------------------------------------------------------\u001b[0m",
      "\u001b[1;31mKeyboardInterrupt\u001b[0m                         Traceback (most recent call last)",
      "Cell \u001b[1;32mIn[17], line 1\u001b[0m\n\u001b[1;32m----> 1\u001b[0m bart \u001b[38;5;241m=\u001b[39m \u001b[43mtorch\u001b[49m\u001b[38;5;241;43m.\u001b[39;49m\u001b[43mhub\u001b[49m\u001b[38;5;241;43m.\u001b[39;49m\u001b[43mload\u001b[49m\u001b[43m(\u001b[49m\u001b[38;5;124;43m'\u001b[39;49m\u001b[38;5;124;43mpytorch/fairseq\u001b[39;49m\u001b[38;5;124;43m'\u001b[39;49m\u001b[43m,\u001b[49m\u001b[43m \u001b[49m\u001b[38;5;124;43m'\u001b[39;49m\u001b[38;5;124;43mbart.large\u001b[39;49m\u001b[38;5;124;43m'\u001b[39;49m\u001b[43m)\u001b[49m\n\u001b[0;32m      2\u001b[0m bart\u001b[38;5;241m.\u001b[39mcuda()\n\u001b[0;32m      3\u001b[0m bart\u001b[38;5;241m.\u001b[39mtrain()\n",
      "File \u001b[1;32mc:\\Users\\eggyr\\anaconda3\\envs\\ml39\\lib\\site-packages\\torch\\hub.py:566\u001b[0m, in \u001b[0;36mload\u001b[1;34m(repo_or_dir, model, source, trust_repo, force_reload, verbose, skip_validation, *args, **kwargs)\u001b[0m\n\u001b[0;32m    562\u001b[0m \u001b[38;5;28;01mif\u001b[39;00m source \u001b[38;5;241m==\u001b[39m \u001b[38;5;124m'\u001b[39m\u001b[38;5;124mgithub\u001b[39m\u001b[38;5;124m'\u001b[39m:\n\u001b[0;32m    563\u001b[0m     repo_or_dir \u001b[38;5;241m=\u001b[39m _get_cache_or_reload(repo_or_dir, force_reload, trust_repo, \u001b[38;5;124m\"\u001b[39m\u001b[38;5;124mload\u001b[39m\u001b[38;5;124m\"\u001b[39m,\n\u001b[0;32m    564\u001b[0m                                        verbose\u001b[38;5;241m=\u001b[39mverbose, skip_validation\u001b[38;5;241m=\u001b[39mskip_validation)\n\u001b[1;32m--> 566\u001b[0m model \u001b[38;5;241m=\u001b[39m _load_local(repo_or_dir, model, \u001b[38;5;241m*\u001b[39margs, \u001b[38;5;241m*\u001b[39m\u001b[38;5;241m*\u001b[39mkwargs)\n\u001b[0;32m    567\u001b[0m \u001b[38;5;28;01mreturn\u001b[39;00m model\n",
      "File \u001b[1;32mc:\\Users\\eggyr\\anaconda3\\envs\\ml39\\lib\\site-packages\\torch\\hub.py:592\u001b[0m, in \u001b[0;36m_load_local\u001b[1;34m(hubconf_dir, model, *args, **kwargs)\u001b[0m\n\u001b[0;32m    590\u001b[0m \u001b[38;5;28;01mwith\u001b[39;00m _add_to_sys_path(hubconf_dir):\n\u001b[0;32m    591\u001b[0m     hubconf_path \u001b[38;5;241m=\u001b[39m os\u001b[38;5;241m.\u001b[39mpath\u001b[38;5;241m.\u001b[39mjoin(hubconf_dir, MODULE_HUBCONF)\n\u001b[1;32m--> 592\u001b[0m     hub_module \u001b[38;5;241m=\u001b[39m \u001b[43m_import_module\u001b[49m\u001b[43m(\u001b[49m\u001b[43mMODULE_HUBCONF\u001b[49m\u001b[43m,\u001b[49m\u001b[43m \u001b[49m\u001b[43mhubconf_path\u001b[49m\u001b[43m)\u001b[49m\n\u001b[0;32m    594\u001b[0m     entry \u001b[38;5;241m=\u001b[39m _load_entry_from_hubconf(hub_module, model)\n\u001b[0;32m    595\u001b[0m     model \u001b[38;5;241m=\u001b[39m entry(\u001b[38;5;241m*\u001b[39margs, \u001b[38;5;241m*\u001b[39m\u001b[38;5;241m*\u001b[39mkwargs)\n",
      "File \u001b[1;32mc:\\Users\\eggyr\\anaconda3\\envs\\ml39\\lib\\site-packages\\torch\\hub.py:106\u001b[0m, in \u001b[0;36m_import_module\u001b[1;34m(name, path)\u001b[0m\n\u001b[0;32m    104\u001b[0m module \u001b[38;5;241m=\u001b[39m importlib\u001b[38;5;241m.\u001b[39mutil\u001b[38;5;241m.\u001b[39mmodule_from_spec(spec)\n\u001b[0;32m    105\u001b[0m \u001b[38;5;28;01massert\u001b[39;00m \u001b[38;5;28misinstance\u001b[39m(spec\u001b[38;5;241m.\u001b[39mloader, Loader)\n\u001b[1;32m--> 106\u001b[0m \u001b[43mspec\u001b[49m\u001b[38;5;241;43m.\u001b[39;49m\u001b[43mloader\u001b[49m\u001b[38;5;241;43m.\u001b[39;49m\u001b[43mexec_module\u001b[49m\u001b[43m(\u001b[49m\u001b[43mmodule\u001b[49m\u001b[43m)\u001b[49m\n\u001b[0;32m    107\u001b[0m \u001b[38;5;28;01mreturn\u001b[39;00m module\n",
      "File \u001b[1;32m<frozen importlib._bootstrap_external>:850\u001b[0m, in \u001b[0;36mexec_module\u001b[1;34m(self, module)\u001b[0m\n",
      "File \u001b[1;32m<frozen importlib._bootstrap>:228\u001b[0m, in \u001b[0;36m_call_with_frames_removed\u001b[1;34m(f, *args, **kwds)\u001b[0m\n",
      "File \u001b[1;32m~/.cache\\torch\\hub\\pytorch_fairseq_main\\hubconf.py:39\u001b[0m\n\u001b[0;32m     35\u001b[0m     \u001b[38;5;28;01mraise\u001b[39;00m \u001b[38;5;167;01mRuntimeError\u001b[39;00m(\u001b[38;5;124m\"\u001b[39m\u001b[38;5;124mMissing dependencies: \u001b[39m\u001b[38;5;132;01m{}\u001b[39;00m\u001b[38;5;124m\"\u001b[39m\u001b[38;5;241m.\u001b[39mformat(\u001b[38;5;124m\"\u001b[39m\u001b[38;5;124m, \u001b[39m\u001b[38;5;124m\"\u001b[39m\u001b[38;5;241m.\u001b[39mjoin(missing_deps)))\n\u001b[0;32m     38\u001b[0m \u001b[38;5;66;03m# only do fairseq imports after checking for dependencies\u001b[39;00m\n\u001b[1;32m---> 39\u001b[0m \u001b[38;5;28;01mfrom\u001b[39;00m \u001b[38;5;21;01mfairseq\u001b[39;00m\u001b[38;5;21;01m.\u001b[39;00m\u001b[38;5;21;01mhub_utils\u001b[39;00m \u001b[38;5;28;01mimport\u001b[39;00m (  \u001b[38;5;66;03m# noqa; noqa\u001b[39;00m\n\u001b[0;32m     40\u001b[0m     BPEHubInterface \u001b[38;5;28;01mas\u001b[39;00m bpe,\n\u001b[0;32m     41\u001b[0m     TokenizerHubInterface \u001b[38;5;28;01mas\u001b[39;00m tokenizer,\n\u001b[0;32m     42\u001b[0m )\n\u001b[0;32m     43\u001b[0m \u001b[38;5;28;01mfrom\u001b[39;00m \u001b[38;5;21;01mfairseq\u001b[39;00m\u001b[38;5;21;01m.\u001b[39;00m\u001b[38;5;21;01mmodels\u001b[39;00m \u001b[38;5;28;01mimport\u001b[39;00m MODEL_REGISTRY  \u001b[38;5;66;03m# noqa\u001b[39;00m\n\u001b[0;32m     46\u001b[0m \u001b[38;5;66;03m# torch.hub doesn't build Cython components, so if they are not found then try\u001b[39;00m\n\u001b[0;32m     47\u001b[0m \u001b[38;5;66;03m# to build them here\u001b[39;00m\n",
      "File \u001b[1;32m~/.cache\\torch\\hub\\pytorch_fairseq_main\\fairseq\\__init__.py:33\u001b[0m\n\u001b[0;32m     29\u001b[0m \u001b[38;5;28;01mfrom\u001b[39;00m \u001b[38;5;21;01mfairseq\u001b[39;00m\u001b[38;5;21;01m.\u001b[39;00m\u001b[38;5;21;01mdataclass\u001b[39;00m\u001b[38;5;21;01m.\u001b[39;00m\u001b[38;5;21;01minitialize\u001b[39;00m \u001b[38;5;28;01mimport\u001b[39;00m hydra_init\n\u001b[0;32m     31\u001b[0m hydra_init()\n\u001b[1;32m---> 33\u001b[0m \u001b[38;5;28;01mimport\u001b[39;00m \u001b[38;5;21;01mfairseq\u001b[39;00m\u001b[38;5;21;01m.\u001b[39;00m\u001b[38;5;21;01mcriterions\u001b[39;00m  \u001b[38;5;66;03m# noqa\u001b[39;00m\n\u001b[0;32m     34\u001b[0m \u001b[38;5;28;01mimport\u001b[39;00m \u001b[38;5;21;01mfairseq\u001b[39;00m\u001b[38;5;21;01m.\u001b[39;00m\u001b[38;5;21;01mdistributed\u001b[39;00m  \u001b[38;5;66;03m# noqa\u001b[39;00m\n\u001b[0;32m     35\u001b[0m \u001b[38;5;28;01mimport\u001b[39;00m \u001b[38;5;21;01mfairseq\u001b[39;00m\u001b[38;5;21;01m.\u001b[39;00m\u001b[38;5;21;01mmodels\u001b[39;00m  \u001b[38;5;66;03m# noqa\u001b[39;00m\n",
      "File \u001b[1;32m~/.cache\\torch\\hub\\pytorch_fairseq_main\\fairseq\\criterions\\__init__.py:36\u001b[0m\n\u001b[0;32m     34\u001b[0m \u001b[38;5;28;01mif\u001b[39;00m file\u001b[38;5;241m.\u001b[39mendswith(\u001b[38;5;124m\"\u001b[39m\u001b[38;5;124m.py\u001b[39m\u001b[38;5;124m\"\u001b[39m) \u001b[38;5;129;01mand\u001b[39;00m \u001b[38;5;129;01mnot\u001b[39;00m file\u001b[38;5;241m.\u001b[39mstartswith(\u001b[38;5;124m\"\u001b[39m\u001b[38;5;124m_\u001b[39m\u001b[38;5;124m\"\u001b[39m):\n\u001b[0;32m     35\u001b[0m     file_name \u001b[38;5;241m=\u001b[39m file[: file\u001b[38;5;241m.\u001b[39mfind(\u001b[38;5;124m\"\u001b[39m\u001b[38;5;124m.py\u001b[39m\u001b[38;5;124m\"\u001b[39m)]\n\u001b[1;32m---> 36\u001b[0m     \u001b[43mimportlib\u001b[49m\u001b[38;5;241;43m.\u001b[39;49m\u001b[43mimport_module\u001b[49m\u001b[43m(\u001b[49m\u001b[38;5;124;43m\"\u001b[39;49m\u001b[38;5;124;43mfairseq.criterions.\u001b[39;49m\u001b[38;5;124;43m\"\u001b[39;49m\u001b[43m \u001b[49m\u001b[38;5;241;43m+\u001b[39;49m\u001b[43m \u001b[49m\u001b[43mfile_name\u001b[49m\u001b[43m)\u001b[49m\n",
      "File \u001b[1;32mc:\\Users\\eggyr\\anaconda3\\envs\\ml39\\lib\\importlib\\__init__.py:127\u001b[0m, in \u001b[0;36mimport_module\u001b[1;34m(name, package)\u001b[0m\n\u001b[0;32m    125\u001b[0m             \u001b[38;5;28;01mbreak\u001b[39;00m\n\u001b[0;32m    126\u001b[0m         level \u001b[38;5;241m+\u001b[39m\u001b[38;5;241m=\u001b[39m \u001b[38;5;241m1\u001b[39m\n\u001b[1;32m--> 127\u001b[0m \u001b[38;5;28;01mreturn\u001b[39;00m \u001b[43m_bootstrap\u001b[49m\u001b[38;5;241;43m.\u001b[39;49m\u001b[43m_gcd_import\u001b[49m\u001b[43m(\u001b[49m\u001b[43mname\u001b[49m\u001b[43m[\u001b[49m\u001b[43mlevel\u001b[49m\u001b[43m:\u001b[49m\u001b[43m]\u001b[49m\u001b[43m,\u001b[49m\u001b[43m \u001b[49m\u001b[43mpackage\u001b[49m\u001b[43m,\u001b[49m\u001b[43m \u001b[49m\u001b[43mlevel\u001b[49m\u001b[43m)\u001b[49m\n",
      "File \u001b[1;32m~/.cache\\torch\\hub\\pytorch_fairseq_main\\fairseq\\criterions\\ctc.py:20\u001b[0m\n\u001b[0;32m     18\u001b[0m \u001b[38;5;28;01mfrom\u001b[39;00m \u001b[38;5;21;01mfairseq\u001b[39;00m\u001b[38;5;21;01m.\u001b[39;00m\u001b[38;5;21;01mcriterions\u001b[39;00m \u001b[38;5;28;01mimport\u001b[39;00m FairseqCriterion, register_criterion\n\u001b[0;32m     19\u001b[0m \u001b[38;5;28;01mfrom\u001b[39;00m \u001b[38;5;21;01mfairseq\u001b[39;00m\u001b[38;5;21;01m.\u001b[39;00m\u001b[38;5;21;01mdataclass\u001b[39;00m \u001b[38;5;28;01mimport\u001b[39;00m FairseqDataclass\n\u001b[1;32m---> 20\u001b[0m \u001b[38;5;28;01mfrom\u001b[39;00m \u001b[38;5;21;01mfairseq\u001b[39;00m\u001b[38;5;21;01m.\u001b[39;00m\u001b[38;5;21;01mdata\u001b[39;00m\u001b[38;5;21;01m.\u001b[39;00m\u001b[38;5;21;01mdata_utils\u001b[39;00m \u001b[38;5;28;01mimport\u001b[39;00m post_process\n\u001b[0;32m     21\u001b[0m \u001b[38;5;28;01mfrom\u001b[39;00m \u001b[38;5;21;01mfairseq\u001b[39;00m\u001b[38;5;21;01m.\u001b[39;00m\u001b[38;5;21;01mtasks\u001b[39;00m \u001b[38;5;28;01mimport\u001b[39;00m FairseqTask\n\u001b[0;32m     22\u001b[0m \u001b[38;5;28;01mfrom\u001b[39;00m \u001b[38;5;21;01mfairseq\u001b[39;00m\u001b[38;5;21;01m.\u001b[39;00m\u001b[38;5;21;01mlogging\u001b[39;00m\u001b[38;5;21;01m.\u001b[39;00m\u001b[38;5;21;01mmeters\u001b[39;00m \u001b[38;5;28;01mimport\u001b[39;00m safe_round\n",
      "File \u001b[1;32m~/.cache\\torch\\hub\\pytorch_fairseq_main\\fairseq\\data\\__init__.py:7\u001b[0m\n\u001b[0;32m      1\u001b[0m \u001b[38;5;66;03m# Copyright (c) Facebook, Inc. and its affiliates.\u001b[39;00m\n\u001b[0;32m      2\u001b[0m \u001b[38;5;66;03m#\u001b[39;00m\n\u001b[0;32m      3\u001b[0m \u001b[38;5;66;03m# This source code is licensed under the MIT license found in the\u001b[39;00m\n\u001b[0;32m      4\u001b[0m \u001b[38;5;66;03m# LICENSE file in the root directory of this source tree.\u001b[39;00m\n\u001b[0;32m      5\u001b[0m \u001b[38;5;124;03m\"\"\"isort:skip_file\"\"\"\u001b[39;00m\n\u001b[1;32m----> 7\u001b[0m \u001b[38;5;28;01mfrom\u001b[39;00m \u001b[38;5;21;01m.\u001b[39;00m\u001b[38;5;21;01mdictionary\u001b[39;00m \u001b[38;5;28;01mimport\u001b[39;00m Dictionary, TruncatedDictionary\n\u001b[0;32m      9\u001b[0m \u001b[38;5;28;01mfrom\u001b[39;00m \u001b[38;5;21;01m.\u001b[39;00m\u001b[38;5;21;01mfairseq_dataset\u001b[39;00m \u001b[38;5;28;01mimport\u001b[39;00m FairseqDataset, FairseqIterableDataset\n\u001b[0;32m     11\u001b[0m \u001b[38;5;28;01mfrom\u001b[39;00m \u001b[38;5;21;01m.\u001b[39;00m\u001b[38;5;21;01mbase_wrapper_dataset\u001b[39;00m \u001b[38;5;28;01mimport\u001b[39;00m BaseWrapperDataset\n",
      "File \u001b[1;32m~/.cache\\torch\\hub\\pytorch_fairseq_main\\fairseq\\data\\dictionary.py:15\u001b[0m\n\u001b[0;32m     13\u001b[0m \u001b[38;5;28;01mfrom\u001b[39;00m \u001b[38;5;21;01mfairseq\u001b[39;00m\u001b[38;5;21;01m.\u001b[39;00m\u001b[38;5;21;01mfile_chunker_utils\u001b[39;00m \u001b[38;5;28;01mimport\u001b[39;00m Chunker, find_offsets\n\u001b[0;32m     14\u001b[0m \u001b[38;5;28;01mfrom\u001b[39;00m \u001b[38;5;21;01mfairseq\u001b[39;00m\u001b[38;5;21;01m.\u001b[39;00m\u001b[38;5;21;01mfile_io\u001b[39;00m \u001b[38;5;28;01mimport\u001b[39;00m PathManager\n\u001b[1;32m---> 15\u001b[0m \u001b[38;5;28;01mfrom\u001b[39;00m \u001b[38;5;21;01mfairseq\u001b[39;00m\u001b[38;5;21;01m.\u001b[39;00m\u001b[38;5;21;01mtokenizer\u001b[39;00m \u001b[38;5;28;01mimport\u001b[39;00m tokenize_line\n\u001b[0;32m     18\u001b[0m \u001b[38;5;28;01mclass\u001b[39;00m \u001b[38;5;21;01mDictionary\u001b[39;00m:\n\u001b[0;32m     19\u001b[0m \u001b[38;5;250m    \u001b[39m\u001b[38;5;124;03m\"\"\"A mapping from symbols to consecutive integers\"\"\"\u001b[39;00m\n",
      "File \u001b[1;32m<frozen importlib._bootstrap>:1007\u001b[0m, in \u001b[0;36m_find_and_load\u001b[1;34m(name, import_)\u001b[0m\n",
      "File \u001b[1;32m<frozen importlib._bootstrap>:986\u001b[0m, in \u001b[0;36m_find_and_load_unlocked\u001b[1;34m(name, import_)\u001b[0m\n",
      "File \u001b[1;32m<frozen importlib._bootstrap>:680\u001b[0m, in \u001b[0;36m_load_unlocked\u001b[1;34m(spec)\u001b[0m\n",
      "File \u001b[1;32m<frozen importlib._bootstrap_external>:846\u001b[0m, in \u001b[0;36mexec_module\u001b[1;34m(self, module)\u001b[0m\n",
      "File \u001b[1;32m<frozen importlib._bootstrap_external>:935\u001b[0m, in \u001b[0;36mget_code\u001b[1;34m(self, fullname)\u001b[0m\n",
      "File \u001b[1;32m<frozen importlib._bootstrap_external>:1079\u001b[0m, in \u001b[0;36mpath_stats\u001b[1;34m(self, path)\u001b[0m\n",
      "File \u001b[1;32m<frozen importlib._bootstrap_external>:142\u001b[0m, in \u001b[0;36m_path_stat\u001b[1;34m(path)\u001b[0m\n",
      "\u001b[1;31mKeyboardInterrupt\u001b[0m: "
     ]
    }
   ],
   "source": [
    "bart = torch.hub.load('pytorch/fairseq', 'bart.large')\n",
    "bart.cuda()\n",
    "bart.train()\n",
    "\n",
    "def compute_metrics(p: EvalPrediction):\n",
    "    metric_acc = load_metric(\"accuracy\")\n",
    "    metric_f1 = load_metric(\"f1\")\n",
    "    preds = p.predictions[0] if isinstance(p.predictions, tuple) else p.predictions\n",
    "    preds = np.argmax(preds, axis = 1)\n",
    "    result = {}\n",
    "    result[\"accuracy\"] = metric_acc.compute(predictions = preds, references = p.label_ids)[\"accuracy\"]\n",
    "    result[\"f1\"] = metric_f1.compute(predictions = preds, references = p.label_ids, average = 'macro')[\"f1\"]\n",
    "    return result"
   ]
  }
 ],
 "metadata": {
  "kernelspec": {
   "display_name": "ml",
   "language": "python",
   "name": "python3"
  },
  "language_info": {
   "codemirror_mode": {
    "name": "ipython",
    "version": 3
   },
   "file_extension": ".py",
   "mimetype": "text/x-python",
   "name": "python",
   "nbconvert_exporter": "python",
   "pygments_lexer": "ipython3",
   "version": "3.9.19"
  }
 },
 "nbformat": 4,
 "nbformat_minor": 2
}
