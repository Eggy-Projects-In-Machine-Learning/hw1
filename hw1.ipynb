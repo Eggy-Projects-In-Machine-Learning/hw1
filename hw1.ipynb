{
 "cells": [
  {
   "cell_type": "markdown",
   "metadata": {},
   "source": [
    "Task 1:\n",
    "\n"
   ]
  },
  {
   "cell_type": "code",
   "execution_count": 4,
   "metadata": {},
   "outputs": [],
   "source": [
    "import os\n",
    "import numpy as np\n",
    "from PIL import Image\n",
    "import time"
   ]
  },
  {
   "cell_type": "code",
   "execution_count": 5,
   "metadata": {},
   "outputs": [],
   "source": [
    "def process_file(file_path, processed_file_path):\n",
    "    with Image.open(file_path) as img:\n",
    "        # Convert the image to RGB (in case it's not already in that format)\n",
    "        img_rgb = img.convert('RGB')\n",
    "        \n",
    "        # Convert the image to a NumPy array\n",
    "        img_array = np.array(img_rgb)\n",
    "\n",
    "        print(f'processed array shape: {img_array.shape}')\n",
    "        time.sleep(1)\n",
    "        \n",
    "        # Save the NumPy array to a file (assuming output_path includes .npy extension)\n",
    "        np.save(processed_file_path, img_array)"
   ]
  },
  {
   "cell_type": "code",
   "execution_count": 6,
   "metadata": {},
   "outputs": [
    {
     "name": "stdout",
     "output_type": "stream",
     "text": [
      "processed array shape: (512, 304, 3)\n",
      "processed array shape: (747, 800, 3)\n"
     ]
    },
    {
     "ename": "KeyboardInterrupt",
     "evalue": "",
     "output_type": "error",
     "traceback": [
      "\u001b[1;31m---------------------------------------------------------------------------\u001b[0m",
      "\u001b[1;31mKeyboardInterrupt\u001b[0m                         Traceback (most recent call last)",
      "Cell \u001b[1;32mIn[6], line 26\u001b[0m\n\u001b[0;32m     23\u001b[0m processed_file_path \u001b[38;5;241m=\u001b[39m os\u001b[38;5;241m.\u001b[39mpath\u001b[38;5;241m.\u001b[39mjoin(processed_subdir_path, filename)\n\u001b[0;32m     25\u001b[0m \u001b[38;5;66;03m# Process the file\u001b[39;00m\n\u001b[1;32m---> 26\u001b[0m \u001b[43mprocess_file\u001b[49m\u001b[43m(\u001b[49m\u001b[43mfile_path\u001b[49m\u001b[43m,\u001b[49m\u001b[43m \u001b[49m\u001b[43mprocessed_file_path\u001b[49m\u001b[43m)\u001b[49m\n",
      "Cell \u001b[1;32mIn[5], line 10\u001b[0m, in \u001b[0;36mprocess_file\u001b[1;34m(file_path, processed_file_path)\u001b[0m\n\u001b[0;32m      7\u001b[0m img_array \u001b[38;5;241m=\u001b[39m np\u001b[38;5;241m.\u001b[39marray(img_rgb)\n\u001b[0;32m      9\u001b[0m \u001b[38;5;28mprint\u001b[39m(\u001b[38;5;124mf\u001b[39m\u001b[38;5;124m'\u001b[39m\u001b[38;5;124mprocessed array shape: \u001b[39m\u001b[38;5;132;01m{\u001b[39;00mimg_array\u001b[38;5;241m.\u001b[39mshape\u001b[38;5;132;01m}\u001b[39;00m\u001b[38;5;124m'\u001b[39m)\n\u001b[1;32m---> 10\u001b[0m \u001b[43mtime\u001b[49m\u001b[38;5;241;43m.\u001b[39;49m\u001b[43msleep\u001b[49m\u001b[43m(\u001b[49m\u001b[38;5;241;43m10\u001b[39;49m\u001b[43m)\u001b[49m\n\u001b[0;32m     12\u001b[0m \u001b[38;5;66;03m# Save the NumPy array to a file (assuming output_path includes .npy extension)\u001b[39;00m\n\u001b[0;32m     13\u001b[0m np\u001b[38;5;241m.\u001b[39msave(processed_file_path, img_array)\n",
      "\u001b[1;31mKeyboardInterrupt\u001b[0m: "
     ]
    }
   ],
   "source": [
    "raw_data_dir = '../../Data/Art'\n",
    "processed_data_dir = '../../Data/Art_Processed'\n",
    "\n",
    "# Create the processed_data directory if it doesn't exist\n",
    "if not os.path.exists(processed_data_dir):\n",
    "    os.makedirs(processed_data_dir)\n",
    "\n",
    "# List all subfolders in raw_data\n",
    "for subdir in os.listdir(raw_data_dir):\n",
    "    raw_subdir_path = os.path.join(raw_data_dir, subdir)\n",
    "    \n",
    "    # Check if it's a directory\n",
    "    if os.path.isdir(raw_subdir_path):\n",
    "        processed_subdir_path = os.path.join(processed_data_dir, subdir)\n",
    "        \n",
    "        # Create the subfolder in processed_data if it doesn't exist\n",
    "        if not os.path.exists(processed_subdir_path):\n",
    "            os.makedirs(processed_subdir_path)\n",
    "        \n",
    "        # Process each file in the subdirectory\n",
    "        for filename in os.listdir(raw_subdir_path):\n",
    "            file_path = os.path.join(raw_subdir_path, filename)\n",
    "            processed_file_path = os.path.join(processed_subdir_path, filename)\n",
    "            \n",
    "            # Process the file\n",
    "            process_file(file_path, processed_file_path)"
   ]
  }
 ],
 "metadata": {
  "kernelspec": {
   "display_name": "pytorch3d",
   "language": "python",
   "name": "python3"
  },
  "language_info": {
   "codemirror_mode": {
    "name": "ipython",
    "version": 3
   },
   "file_extension": ".py",
   "mimetype": "text/x-python",
   "name": "python",
   "nbconvert_exporter": "python",
   "pygments_lexer": "ipython3",
   "version": "3.9.16"
  }
 },
 "nbformat": 4,
 "nbformat_minor": 2
}
