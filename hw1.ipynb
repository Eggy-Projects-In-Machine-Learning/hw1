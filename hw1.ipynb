{
 "cells": [
  {
   "cell_type": "markdown",
   "metadata": {},
   "source": [
    "Task 1:\n",
    "\n"
   ]
  },
  {
   "cell_type": "code",
   "execution_count": 28,
   "metadata": {},
   "outputs": [],
   "source": [
    "import os\n",
    "import numpy as np\n",
    "from PIL import Image\n",
    "import time"
   ]
  },
  {
   "cell_type": "code",
   "execution_count": 32,
   "metadata": {},
   "outputs": [],
   "source": [
    "def process_file(file_path, processed_file_path, target_size = 256, aspect_ratio_thres = 1.333):\n",
    "    with Image.open(file_path) as img:\n",
    "        # convert the image to RGB to ensure consistency\n",
    "        image = img.convert('RGB')\n",
    "\n",
    "        # crop out the longer dimension so it's square\n",
    "        width, height = image.size\n",
    "        new_size = min(width, height)\n",
    "        if new_size * aspect_ratio_thres < max(width, height):\n",
    "            # print(f'skipped due to aspect ratio too high')\n",
    "            return 1\n",
    "        left = (width - new_size) / 2\n",
    "        top = (height - new_size) / 2\n",
    "        right = (width + new_size) / 2\n",
    "        bottom = (height + new_size) / 2\n",
    "        image = image.crop((left, top, right, bottom))\n",
    "        \n",
    "        # resize\n",
    "        image = image.resize((target_size, target_size))\n",
    "        \n",
    "        # convert to numpy array\n",
    "        img_array = np.array(image)\n",
    "\n",
    "        # print(f'processed array shape: {img_array.shape}')\n",
    "        \n",
    "        # save to file\n",
    "        np.save(processed_file_path, img_array)\n",
    "        return 0"
   ]
  },
  {
   "cell_type": "code",
   "execution_count": 33,
   "metadata": {},
   "outputs": [
    {
     "name": "stdout",
     "output_type": "stream",
     "text": [
      "reading directory Art_Nouveau\n",
      "traversed 100 / 3035, processed 23\n",
      "traversed 200 / 3035, processed 47\n",
      "traversed 300 / 3035, processed 90\n",
      "traversed 400 / 3035, processed 121\n",
      "traversed 500 / 3035, processed 167\n",
      "traversed 600 / 3035, processed 195\n",
      "traversed 700 / 3035, processed 208\n",
      "traversed 800 / 3035, processed 219\n",
      "traversed 900 / 3035, processed 225\n",
      "traversed 1000 / 3035, processed 241\n",
      "traversed 1100 / 3035, processed 249\n"
     ]
    },
    {
     "ename": "KeyboardInterrupt",
     "evalue": "",
     "output_type": "error",
     "traceback": [
      "\u001b[1;31m---------------------------------------------------------------------------\u001b[0m",
      "\u001b[1;31mKeyboardInterrupt\u001b[0m                         Traceback (most recent call last)",
      "Cell \u001b[1;32mIn[33], line 31\u001b[0m\n\u001b[0;32m     28\u001b[0m processed_file_path \u001b[38;5;241m=\u001b[39m os\u001b[38;5;241m.\u001b[39mpath\u001b[38;5;241m.\u001b[39mjoin(processed_subdir_path, filename)\n\u001b[0;32m     30\u001b[0m \u001b[38;5;66;03m# Process the file\u001b[39;00m\n\u001b[1;32m---> 31\u001b[0m return_code \u001b[38;5;241m=\u001b[39m \u001b[43mprocess_file\u001b[49m\u001b[43m(\u001b[49m\u001b[43mfile_path\u001b[49m\u001b[43m,\u001b[49m\u001b[43m \u001b[49m\u001b[43mprocessed_file_path\u001b[49m\u001b[43m)\u001b[49m\n\u001b[0;32m     32\u001b[0m count \u001b[38;5;241m+\u001b[39m\u001b[38;5;241m=\u001b[39m \u001b[38;5;241m1\u001b[39m\n\u001b[0;32m     33\u001b[0m \u001b[38;5;28;01mif\u001b[39;00m return_code \u001b[38;5;241m==\u001b[39m \u001b[38;5;241m0\u001b[39m:\n",
      "Cell \u001b[1;32mIn[32], line 19\u001b[0m, in \u001b[0;36mprocess_file\u001b[1;34m(file_path, processed_file_path, target_size, aspect_ratio_thres)\u001b[0m\n\u001b[0;32m     16\u001b[0m image \u001b[38;5;241m=\u001b[39m image\u001b[38;5;241m.\u001b[39mcrop((left, top, right, bottom))\n\u001b[0;32m     18\u001b[0m \u001b[38;5;66;03m# resize\u001b[39;00m\n\u001b[1;32m---> 19\u001b[0m image \u001b[38;5;241m=\u001b[39m \u001b[43mimage\u001b[49m\u001b[38;5;241;43m.\u001b[39;49m\u001b[43mresize\u001b[49m\u001b[43m(\u001b[49m\u001b[43m(\u001b[49m\u001b[43mtarget_size\u001b[49m\u001b[43m,\u001b[49m\u001b[43m \u001b[49m\u001b[43mtarget_size\u001b[49m\u001b[43m)\u001b[49m\u001b[43m)\u001b[49m\n\u001b[0;32m     21\u001b[0m \u001b[38;5;66;03m# convert to numpy array\u001b[39;00m\n\u001b[0;32m     22\u001b[0m img_array \u001b[38;5;241m=\u001b[39m np\u001b[38;5;241m.\u001b[39marray(image)\n",
      "File \u001b[1;32mc:\\Users\\eggyr\\anaconda3\\envs\\pytorch3d\\lib\\site-packages\\PIL\\Image.py:2115\u001b[0m, in \u001b[0;36mImage.resize\u001b[1;34m(self, size, resample, box, reducing_gap)\u001b[0m\n\u001b[0;32m   2107\u001b[0m             \u001b[38;5;28mself\u001b[39m \u001b[38;5;241m=\u001b[39m Image\u001b[38;5;241m.\u001b[39mreduce(\u001b[38;5;28mself\u001b[39m, factor, box\u001b[38;5;241m=\u001b[39mreduce_box)\n\u001b[0;32m   2108\u001b[0m         box \u001b[38;5;241m=\u001b[39m (\n\u001b[0;32m   2109\u001b[0m             (box[\u001b[38;5;241m0\u001b[39m] \u001b[38;5;241m-\u001b[39m reduce_box[\u001b[38;5;241m0\u001b[39m]) \u001b[38;5;241m/\u001b[39m factor_x,\n\u001b[0;32m   2110\u001b[0m             (box[\u001b[38;5;241m1\u001b[39m] \u001b[38;5;241m-\u001b[39m reduce_box[\u001b[38;5;241m1\u001b[39m]) \u001b[38;5;241m/\u001b[39m factor_y,\n\u001b[0;32m   2111\u001b[0m             (box[\u001b[38;5;241m2\u001b[39m] \u001b[38;5;241m-\u001b[39m reduce_box[\u001b[38;5;241m0\u001b[39m]) \u001b[38;5;241m/\u001b[39m factor_x,\n\u001b[0;32m   2112\u001b[0m             (box[\u001b[38;5;241m3\u001b[39m] \u001b[38;5;241m-\u001b[39m reduce_box[\u001b[38;5;241m1\u001b[39m]) \u001b[38;5;241m/\u001b[39m factor_y,\n\u001b[0;32m   2113\u001b[0m         )\n\u001b[1;32m-> 2115\u001b[0m \u001b[38;5;28;01mreturn\u001b[39;00m \u001b[38;5;28mself\u001b[39m\u001b[38;5;241m.\u001b[39m_new(\u001b[38;5;28;43mself\u001b[39;49m\u001b[38;5;241;43m.\u001b[39;49m\u001b[43mim\u001b[49m\u001b[38;5;241;43m.\u001b[39;49m\u001b[43mresize\u001b[49m\u001b[43m(\u001b[49m\u001b[43msize\u001b[49m\u001b[43m,\u001b[49m\u001b[43m \u001b[49m\u001b[43mresample\u001b[49m\u001b[43m,\u001b[49m\u001b[43m \u001b[49m\u001b[43mbox\u001b[49m\u001b[43m)\u001b[49m)\n",
      "\u001b[1;31mKeyboardInterrupt\u001b[0m: "
     ]
    }
   ],
   "source": [
    "raw_data_dir = '../../Data/Art'\n",
    "processed_data_dir = '../../Data/Art_Processed'\n",
    "\n",
    "# Create the processed_data directory if it doesn't exist\n",
    "if not os.path.exists(processed_data_dir):\n",
    "    os.makedirs(processed_data_dir)\n",
    "\n",
    "# List all subfolders in raw_data\n",
    "for subdir in os.listdir(raw_data_dir):\n",
    "    print(f'reading directory {subdir}')\n",
    "    raw_subdir_path = os.path.join(raw_data_dir, subdir)\n",
    "    \n",
    "    # Check if it's a directory\n",
    "    if not os.path.isdir(raw_subdir_path):\n",
    "        continue\n",
    "    processed_subdir_path = os.path.join(processed_data_dir, subdir)\n",
    "    \n",
    "    # Create the subfolder in processed_data if it doesn't exist\n",
    "    if not os.path.exists(processed_subdir_path):\n",
    "        os.makedirs(processed_subdir_path)\n",
    "    \n",
    "    count = 0\n",
    "    processed_count = 0\n",
    "    total = len(os.listdir(raw_subdir_path))\n",
    "    # Process each file in the subdirectory\n",
    "    for filename in os.listdir(raw_subdir_path):\n",
    "        file_path = os.path.join(raw_subdir_path, filename)\n",
    "        processed_file_path = os.path.join(processed_subdir_path, filename)\n",
    "        \n",
    "        # Process the file\n",
    "        return_code = process_file(file_path, processed_file_path)\n",
    "        count += 1\n",
    "        if return_code == 0:\n",
    "            processed_count += 1\n",
    "        if count % 100 == 0:\n",
    "            print(f'traversed {count} / {total}, processed {processed_count}')\n"
   ]
  }
 ],
 "metadata": {
  "kernelspec": {
   "display_name": "pytorch3d",
   "language": "python",
   "name": "python3"
  },
  "language_info": {
   "codemirror_mode": {
    "name": "ipython",
    "version": 3
   },
   "file_extension": ".py",
   "mimetype": "text/x-python",
   "name": "python",
   "nbconvert_exporter": "python",
   "pygments_lexer": "ipython3",
   "version": "3.9.16"
  }
 },
 "nbformat": 4,
 "nbformat_minor": 2
}
