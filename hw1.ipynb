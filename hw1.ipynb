{
 "cells": [
  {
   "cell_type": "markdown",
   "metadata": {},
   "source": [
    "Task 1:\n",
    "\n"
   ]
  },
  {
   "cell_type": "code",
   "execution_count": 10,
   "metadata": {},
   "outputs": [],
   "source": [
    "import os\n",
    "import numpy as np\n",
    "from PIL import Image\n",
    "import time"
   ]
  },
  {
   "cell_type": "code",
   "execution_count": 11,
   "metadata": {},
   "outputs": [],
   "source": [
    "def process_file(file_path, processed_file_path, target_size = 256, aspect_ratio_thres = 1.3):\n",
    "    with Image.open(file_path) as image:\n",
    "        # crop out the longer dimension so it's square\n",
    "        width, height = image.size\n",
    "        new_size = min(width, height)\n",
    "        if new_size * aspect_ratio_thres < max(width, height):\n",
    "            # print(f'skipped due to aspect ratio too high')\n",
    "            return 1\n",
    "        left = (width - new_size) / 2\n",
    "        top = (height - new_size) / 2\n",
    "        right = (width + new_size) / 2\n",
    "        bottom = (height + new_size) / 2\n",
    "        image = image.crop((left, top, right, bottom))\n",
    "        \n",
    "        # resize\n",
    "        image = image.resize((target_size, target_size))\n",
    "\n",
    "        # convert the image to RGB\n",
    "        image = image.convert('RGB')\n",
    "        \n",
    "        # convert to numpy array\n",
    "        img_array = np.array(image)\n",
    "\n",
    "        # print(f'processed array shape: {img_array.shape}')\n",
    "        if img_array.shape != (target_size, target_size, 3):\n",
    "            print(f'error! wrong shape {img_array.shape}')\n",
    "        \n",
    "        # save to file\n",
    "        np.save(processed_file_path, img_array)\n",
    "        return 0"
   ]
  },
  {
   "cell_type": "code",
   "execution_count": 12,
   "metadata": {},
   "outputs": [],
   "source": [
    "def extract_5_features(data):\n",
    "    features = np.zeros((5,))\n",
    "    return features"
   ]
  },
  {
   "cell_type": "code",
   "execution_count": 13,
   "metadata": {},
   "outputs": [],
   "source": [
    "def preprocess(raw_data_dir, processed_data_dir):\n",
    "    # Create the processed_data directory if it doesn't exist\n",
    "    if not os.path.exists(processed_data_dir):\n",
    "        os.makedirs(processed_data_dir)\n",
    "\n",
    "    # List all subfolders in raw_data\n",
    "    for subdir in os.listdir(raw_data_dir):\n",
    "        print(f'reading directory {subdir}')\n",
    "        raw_subdir_path = os.path.join(raw_data_dir, subdir)\n",
    "        \n",
    "        # Check if it's a directory\n",
    "        if not os.path.isdir(raw_subdir_path):\n",
    "            continue\n",
    "        processed_subdir_path = os.path.join(processed_data_dir, subdir)\n",
    "        \n",
    "        # Create the subfolder in processed_data if it doesn't exist\n",
    "        if not os.path.exists(processed_subdir_path):\n",
    "            os.makedirs(processed_subdir_path)\n",
    "        \n",
    "        count = 0\n",
    "        processed_count = 0\n",
    "        total = len(os.listdir(raw_subdir_path))\n",
    "        # Process each file in the subdirectory\n",
    "        for filename in os.listdir(raw_subdir_path):\n",
    "            file_path = os.path.join(raw_subdir_path, filename)\n",
    "            processed_file_path = os.path.join(processed_subdir_path, filename)\n",
    "            \n",
    "            # Process the file\n",
    "            return_code = process_file(file_path, processed_file_path)\n",
    "            count += 1\n",
    "            if return_code == 0:\n",
    "                processed_count += 1\n",
    "            if count % 100 == 0 or count == total:\n",
    "                print(f'traversed {count} / {total}, processed {processed_count}')\n",
    "                \n",
    "    print('finished preprocessing')"
   ]
  },
  {
   "cell_type": "code",
   "execution_count": 16,
   "metadata": {},
   "outputs": [],
   "source": [
    "def import_features(processed_data_dir, features, features_extraction_function, folders=None):\n",
    "    total_items = 0\n",
    "    # List all subfolders\n",
    "    for subdir in os.listdir(processed_data_dir):\n",
    "        if folders is not None and subdir not in folders:\n",
    "            continue\n",
    "        subdir_path = os.path.join(processed_data_dir, subdir)\n",
    "        \n",
    "        # Check if it's a directory\n",
    "        if not os.path.isdir(subdir_path):\n",
    "            continue\n",
    "        total_items += len(os.listdir(subdir_path))\n",
    "    print(f'found {total_items} items!')\n",
    "        \n",
    "\n",
    "    X = np.zeros((total_items, features))\n",
    "    Y = np.zeros((total_items, 1))\n",
    "    category_map = dict()\n",
    "\n",
    "    category_counter = 0\n",
    "    item_counter = 0\n",
    "\n",
    "    # List all subfolders\n",
    "    for subdir in os.listdir(processed_data_dir):\n",
    "        if folders is not None and subdir not in folders:\n",
    "            continue\n",
    "        print(f'reading directory {subdir}')\n",
    "        subdir_path = os.path.join(processed_data_dir, subdir)\n",
    "        \n",
    "        # Check if it's a directory\n",
    "        if not os.path.isdir(subdir_path):\n",
    "            continue\n",
    "        \n",
    "        # Process each file in the subdirectory\n",
    "        for filename in os.listdir(subdir_path):\n",
    "            file_path = os.path.join(subdir_path, filename)\n",
    "            data = np.load(file_path)\n",
    "            features = features_extraction_function(data)\n",
    "            X[item_counter] = features\n",
    "            Y[item_counter][0] = category_counter\n",
    "            item_counter += 1\n",
    "        \n",
    "        category_map[category_counter] = subdir\n",
    "        category_map[subdir] = category_counter\n",
    "        category_counter += 1\n",
    "\n",
    "    print('finished feature import')\n",
    "\n",
    "    return X, Y, category_map"
   ]
  },
  {
   "cell_type": "code",
   "execution_count": 17,
   "metadata": {},
   "outputs": [
    {
     "name": "stdout",
     "output_type": "stream",
     "text": [
      "found 6371 items!\n",
      "reading directory Baroque\n",
      "reading directory Expressionism\n",
      "reading directory Japanese\n",
      "reading directory Realism\n",
      "reading directory Symbolism\n",
      "finished feature import\n",
      "X shape: (6371, 5)\n",
      "Y Shape: (6371, 1)\n",
      "Map: \n",
      "{0: 'Baroque', 'Baroque': 0, 1: 'Expressionism', 'Expressionism': 1, 2: 'Japanese', 'Japanese': 2, 3: 'Realism', 'Realism': 3, 4: 'Symbolism', 'Symbolism': 4}\n",
      "\n"
     ]
    }
   ],
   "source": [
    "raw_data_dir = '../../Data/Art'\n",
    "processed_data_dir = '../../Data/Art_Processed'\n",
    "folders = ['Baroque', 'Expressionism', 'Japanese', 'Realism', 'Symbolism']\n",
    "\n",
    "#preprocess(raw_data_dir, processed_data_dir)\n",
    "X, Y, category_map = import_features(processed_data_dir, 5, extract_5_features, folders)\n",
    "print(f'X shape: {X.shape}\\nY Shape: {Y.shape}\\nMap: \\n{category_map}\\n')"
   ]
  }
 ],
 "metadata": {
  "kernelspec": {
   "display_name": "pytorch3d",
   "language": "python",
   "name": "python3"
  },
  "language_info": {
   "codemirror_mode": {
    "name": "ipython",
    "version": 3
   },
   "file_extension": ".py",
   "mimetype": "text/x-python",
   "name": "python",
   "nbconvert_exporter": "python",
   "pygments_lexer": "ipython3",
   "version": "3.12.1"
  }
 },
 "nbformat": 4,
 "nbformat_minor": 2
}
