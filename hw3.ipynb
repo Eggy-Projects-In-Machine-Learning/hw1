{
 "cells": [
  {
   "cell_type": "code",
   "execution_count": 121,
   "metadata": {},
   "outputs": [],
   "source": [
    "import numpy as np\n",
    "import matplotlib.pyplot as plt\n",
    "import csv"
   ]
  },
  {
   "cell_type": "code",
   "execution_count": 122,
   "metadata": {},
   "outputs": [],
   "source": [
    "\"\"\" IMPORTING DATA \"\"\"\n",
    "\n",
    "def import_data(file_name):\n",
    "    data = []\n",
    "    label = []\n",
    "    with open(file_name, 'r') as csvfile:\n",
    "        csvreader = csv.reader(csvfile)\n",
    "\n",
    "        # skip first row because it has labels\n",
    "        next(csvreader)\n",
    "        data_indices = [1,2,3,4,5,7,8,9,10]\n",
    "        class_index = 6\n",
    "\n",
    "        for row in csvreader:\n",
    "            data.append([row[i] for i in data_indices])\n",
    "            label.append(row[class_index])\n",
    "\n",
    "    # Convert the list to a numpy array\n",
    "    data_array = np.array(data)\n",
    "\n",
    "    # add bias\n",
    "    bias = np.ones((len(data_array), 1))\n",
    "    data_array = np.hstack((bias, data_array))\n",
    "\n",
    "    data_array = data_array.astype(np.float32)\n",
    "    label_array = np.array(label)\n",
    "    label_array = label_array.astype(np.float32)\n",
    "    print(f'label shape: {label_array.shape}')\n",
    "\n",
    "    # here, we're setting the label to be 1 if a positive quantity is in label, otherwise it's -1\n",
    "    label_array = np.where(label_array > 0.01, 1, -1)\n",
    "    label_array = np.reshape(label_array, (len(label_array), 1))\n",
    "\n",
    "    class_a_count = np.sum(label_array == -1)\n",
    "    class_b_count = np.sum(label_array == 1)\n",
    "    print(f'label statistics: class -1 {class_a_count}, class 1 {class_b_count}, baseline accuracy: {np.maximum(class_a_count, class_b_count)/(len(data_array))}')\n",
    "    return data_array, label_array\n",
    "\n",
    "def split_data(X, Y, test_ratio):\n",
    "    num_test = int(len(X) * test_ratio)\n",
    "    test_indices = np.random.choice(len(X), num_test, replace=False)\n",
    "    Xtest = X[test_indices, :]\n",
    "    Ytest = Y[test_indices, :]\n",
    "\n",
    "    X = np.delete(X, test_indices, axis=0)\n",
    "    Y = np.delete(Y, test_indices, axis=0)\n",
    "    return X, Y, Xtest, Ytest"
   ]
  },
  {
   "cell_type": "code",
   "execution_count": 123,
   "metadata": {},
   "outputs": [],
   "source": [
    "class NeuralNetwork():\n",
    "\n",
    "    def __init__(self, layer_sizes):\n",
    "        self.weights = []\n",
    "\n",
    "        # initializing weights to small random values\n",
    "        for i in range(1, len(layer_sizes)):\n",
    "            self.weights.append(np.random.rand(layer_sizes[i], layer_sizes[i - 1]) * 0.1)\n",
    "    \n",
    "    def tanh(self, x):\n",
    "        return np.tanh(x)\n",
    "\n",
    "    def d_tanh(self, x):\n",
    "        return 1 - np.power(np.tanh(x), 2)\n",
    "\n",
    "    def output_func(self, X):\n",
    "        return np.sign(X)\n",
    "    \n",
    "    # returns the final classification result\n",
    "    def predict(self, X):\n",
    "        A_0 = X.T\n",
    "        A_1 = self.weights[0] @ A_0\n",
    "        A_1 = self.tanh(A_1)\n",
    "        A_2 = self.weights[1] @ A_1\n",
    "        A_2 = self.output_func(A_2.T)\n",
    "        return A_2\n",
    "    \n",
    "    # returns full history of forward so we can perform backpropagation\n",
    "    def forward(self, X):\n",
    "        A_0 = X\n",
    "        A_1 = self.weights[0] @ A_0\n",
    "        A_1 = self.tanh(A_1)\n",
    "        A_2 = self.weights[1] @ A_1\n",
    "        return (A_0, A_1, A_2)\n",
    "    \n",
    "    def backward(self, X, Y):\n",
    "        A_0 = X\n",
    "        A_0 = A_0.reshape((len(A_0), 1))\n",
    "\n",
    "        # forward propagation\n",
    "        A_0, A_1, A_2 = self.forward(A_0)\n",
    "\n",
    "        # backward: error of output layer\n",
    "        dA_2 = A_2 - Y\n",
    "\n",
    "        # backward: compute weight gradient of layers\n",
    "        dW_1 = dA_2 @ A_1.T\n",
    "        dA_1 = self.weights[1].T @ dA_2 * self.d_tanh(A_1)\n",
    "        dW_0 = dA_1 @ A_0.T\n",
    "\n",
    "        # final gradient\n",
    "        weight_gradients = [dW_0, dW_1]\n",
    "        return weight_gradients\n",
    "\n",
    "    \n",
    "    def train(self, X, Y, total_epoch, learning_rate=0.03, learning_rate_decay=0.8):\n",
    "        print(\"beginning training\")\n",
    "        accuracy_history = np.zeros((total_epoch + 1,))\n",
    "        for epoch in range(total_epoch):\n",
    "\n",
    "            # variable learning rate adjustment\n",
    "            # TODO: better decay algorithm, such as checking error slope\n",
    "            if epoch % (total_epoch // 10) == 0:\n",
    "                learning_rate *= learning_rate_decay\n",
    "                print(f\"epoch {epoch} with learning rate {np.around(learning_rate, 4)}\")\n",
    "\n",
    "            for i in range(0, len(X)):\n",
    "\n",
    "                weight_gradients = self.backward(X[i], Y[i])\n",
    "                # subtract the gradient from the weights\n",
    "                for j in range(len(self.weights)):\n",
    "                    self.weights[j] -= learning_rate * weight_gradients[j]\n",
    "\n",
    "            accuracy = self.test(X, Y)\n",
    "            accuracy_history[epoch + 1] = accuracy\n",
    "            if epoch % (total_epoch // 10) == 0:\n",
    "                print(f'training accuracy: {np.around(accuracy, 5)}')\n",
    "        \n",
    "        return accuracy_history\n",
    "            \n",
    "\n",
    "    def test(self, X, Y):\n",
    "        results = self.predict(X)\n",
    "        num_incorrect = np.sum(np.abs(0.5 * (Y - results)))\n",
    "        accuracy = 1 - (num_incorrect/len(X))\n",
    "        return accuracy\n",
    "\n",
    "    def correct(self, x, ans):\n",
    "        return np.sign(x) == np.sign(ans)"
   ]
  },
  {
   "cell_type": "code",
   "execution_count": 124,
   "metadata": {},
   "outputs": [
    {
     "name": "stdout",
     "output_type": "stream",
     "text": [
      "label shape: (3654,)\n",
      "label statistics: class -1 2079, class 1 1575, baseline accuracy: 0.5689655172413793\n",
      "Shapes: X: (3289, 10), Y: (3289, 1), Xtest: (365, 10), Ytest: (365, 1)\n",
      "beginning training\n",
      "epoch 0 with learning rate 0.0064\n",
      "training accuracy: 0.71085\n",
      "epoch 10 with learning rate 0.0041\n",
      "training accuracy: 0.73275\n",
      "epoch 20 with learning rate 0.0026\n",
      "training accuracy: 0.74187\n",
      "epoch 30 with learning rate 0.0017\n",
      "training accuracy: 0.74308\n",
      "epoch 40 with learning rate 0.0011\n",
      "training accuracy: 0.74673\n",
      "epoch 50 with learning rate 0.0007\n",
      "training accuracy: 0.7446\n",
      "epoch 60 with learning rate 0.0004\n",
      "training accuracy: 0.74886\n",
      "epoch 70 with learning rate 0.0003\n",
      "training accuracy: 0.75129\n",
      "epoch 80 with learning rate 0.0002\n",
      "training accuracy: 0.7522\n",
      "epoch 90 with learning rate 0.0001\n",
      "training accuracy: 0.75068\n"
     ]
    },
    {
     "data": {
      "image/png": "[encoded data removed]",
      "text/plain": [
       "<Figure size 640x480 with 1 Axes>"
      ]
     },
     "metadata": {},
     "output_type": "display_data"
    },
    {
     "name": "stdout",
     "output_type": "stream",
     "text": [
      "TESTING ACCURACY: 0.7780821917808219\n"
     ]
    }
   ],
   "source": [
    "\"\"\"TESTING\"\"\"\n",
    "\n",
    "file = '../../Data/weather/weather_prediction_dataset.csv'\n",
    "X, Y = import_data(file)\n",
    "\n",
    "def custom_nn():\n",
    "    Xtrain, Ytrain, Xtest, Ytest = split_data(X, Y, 0.1)\n",
    "    print(f'Shapes: X: {Xtrain.shape}, Y: {Ytrain.shape}, Xtest: {Xtest.shape}, Ytest: {Ytest.shape}')\n",
    "    network1 = NeuralNetwork([10, 20, 1])\n",
    "    total_epoch = 100\n",
    "    error_graph = network1.train(Xtrain, Ytrain, total_epoch, 0.01, 0.64)\n",
    "\n",
    "    # plotting training accuracy\n",
    "    plt.scatter(np.linspace(0, total_epoch, len(error_graph)), error_graph, s=5)\n",
    "    plt.title(\"training accuracy history\")\n",
    "    plt.show()\n",
    "\n",
    "    accuracy = network1.test(Xtest, Ytest)\n",
    "    print(f\"TESTING ACCURACY: {accuracy}\")\n",
    "\n",
    "custom_nn()"
   ]
  },
  {
   "cell_type": "code",
   "execution_count": 125,
   "metadata": {},
   "outputs": [],
   "source": [
    "import torch\n",
    "from sklearn.model_selection import train_test_split"
   ]
  },
  {
   "cell_type": "code",
   "execution_count": 126,
   "metadata": {},
   "outputs": [
    {
     "name": "stdout",
     "output_type": "stream",
     "text": [
      "Shapes: X: (1827, 10), Y: (1827, 1), Xtest: (1827, 10), Ytest: (1827, 1)\n"
     ]
    }
   ],
   "source": [
    "def torch_nn():\n",
    "    Xtrain, Xtest, Ytrain, Ytest = train_test_split(X, Y, test_size=0.1, random_state=0)\n",
    "    print(f'Shapes: X: {Xtrain.shape}, Y: {Ytrain.shape}, Xtest: {Xtest.shape}, Ytest: {Ytest.shape}')\n",
    "    \n",
    "\n",
    "torch_nn()"
   ]
  }
 ],
 "metadata": {
  "kernelspec": {
   "display_name": "pytorch3d",
   "language": "python",
   "name": "python3"
  },
  "language_info": {
   "codemirror_mode": {
    "name": "ipython",
    "version": 3
   },
   "file_extension": ".py",
   "mimetype": "text/x-python",
   "name": "python",
   "nbconvert_exporter": "python",
   "pygments_lexer": "ipython3",
   "version": "3.9.16"
  }
 },
 "nbformat": 4,
 "nbformat_minor": 2
}
